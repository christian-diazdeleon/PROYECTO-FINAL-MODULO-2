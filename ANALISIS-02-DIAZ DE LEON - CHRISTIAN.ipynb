{
 "cells": [
  {
   "cell_type": "markdown",
   "metadata": {},
   "source": [
    "# Proyecto final"
   ]
  },
  {
   "cell_type": "markdown",
   "metadata": {},
   "source": [
    "## Importación de la base de datos"
   ]
  },
  {
   "cell_type": "code",
   "execution_count": 6,
   "metadata": {},
   "outputs": [],
   "source": [
    "#import pandas as pd\n",
    "\n",
    "#ubicación del archivo\n",
    "#ubicación = \"synergy_logistics_database.csv\"\n",
    "\n",
    "# Leer el archivo y vaciar el contenido en la variable datos\n",
    "#datos = pd.read_csv(ubicación, parse_dates=True)"
   ]
  },
  {
   "cell_type": "markdown",
   "metadata": {
    "tags": []
   },
   "source": [
    "## Opción 1.  Rutas de importación y exportación"
   ]
  },
  {
   "cell_type": "markdown",
   "metadata": {},
   "source": [
    "### 10 rutas más demandadas"
   ]
  },
  {
   "cell_type": "code",
   "execution_count": 51,
   "metadata": {},
   "outputs": [
    {
     "name": "stdout",
     "output_type": "stream",
     "text": [
      "[139, 'South Korea-Vietnam', 497]\n",
      "[113, 'Netherlands-Belgium', 437]\n",
      "[160, 'USA-Netherlands', 436]\n",
      "[91, 'Japan-Mexico', 385]\n",
      "[35, 'China-Mexico', 351]\n",
      "[34, 'China-Japan', 343]\n",
      "[57, 'Germany-China', 328]\n",
      "[86, 'Japan-Brazil', 306]\n",
      "[58, 'Germany-France', 299]\n",
      "[135, 'South Korea-Japan', 294]\n"
     ]
    }
   ],
   "source": [
    "# Creación de una serie de listas\n",
    "\n",
    "import csv\n",
    "\n",
    "rutas = []\n",
    "\n",
    "with open(\"synergy_logistics_database.csv\", \"r\") as datos:\n",
    "    lector = csv.reader(datos)\n",
    "    \n",
    "    for linea in lector:\n",
    "        #print(linea)\n",
    "        rutas.append(linea[2]+\"-\"+linea[3])\n",
    "\n",
    "\n",
    "#ordenamiento de la lista\n",
    "\n",
    "rutas.sort(reverse=False)\n",
    "\n",
    "#creación de lista de tipos de rutas:\n",
    "\n",
    "tipos=[]\n",
    "\n",
    "for ruta in rutas:\n",
    "    \n",
    "    if (ruta in tipos) == False:\n",
    "        tipos.append(ruta)\n",
    "\n",
    "#print(tipos)\n",
    "\n",
    "# Numeración de los tipos de rutas y espacio para el conteo:\n",
    "\n",
    "tipo_eventos = [] \n",
    "i=1\n",
    "\n",
    "for tipo in tipos: \n",
    "    lista_interna = [i, tipo, 0] \n",
    "    tipo_eventos.append(lista_interna)\n",
    "    i=i+1\n",
    "    \n",
    "#print(tipo_eventos)\n",
    "\n",
    "# Creación de lista de los números de rutas\n",
    "\n",
    "rutas2=[]\n",
    "\n",
    "for tipo_evento in tipo_eventos:\n",
    "    \n",
    "    for ruta in rutas:\n",
    "        \n",
    "        if tipo_evento[1] == ruta:\n",
    "            rutas2.append(tipo_evento[0])\n",
    "    \n",
    "#print(rutas2)\n",
    "\n",
    "# Conteo\n",
    "\n",
    "for ruta in rutas2: \n",
    "    tipo_eventos[ruta - 1][2] += 1\n",
    "\n",
    "#print(tipo_eventos)\n",
    "\n",
    "def tercer_elemento(lista): \n",
    "    return lista[2] \n",
    "\n",
    "tipo_eventos.sort(reverse=True, key=tercer_elemento)\n",
    "\n",
    "n = 10 \n",
    "\n",
    "mejores_rutas = tipo_eventos[:n] \n",
    "\n",
    "for mejorruta in mejores_rutas:\n",
    "    print(mejorruta)\n",
    "\n"
   ]
  },
  {
   "cell_type": "code",
   "execution_count": null,
   "metadata": {},
   "outputs": [],
   "source": []
  },
  {
   "cell_type": "markdown",
   "metadata": {},
   "source": []
  },
  {
   "cell_type": "markdown",
   "metadata": {
    "tags": []
   },
   "source": [
    "## Opción 2.  Medio de transporte utilizado"
   ]
  },
  {
   "cell_type": "markdown",
   "metadata": {},
   "source": [
    "### 3 medios de transporte más importantes considerando el valor de las importaciones y exportaciones"
   ]
  },
  {
   "cell_type": "code",
   "execution_count": 9,
   "metadata": {},
   "outputs": [
    {
     "ename": "ValueError",
     "evalue": "I/O operation on closed file.",
     "output_type": "error",
     "traceback": [
      "\u001b[1;31m---------------------------------------------------------------------------\u001b[0m",
      "\u001b[1;31mValueError\u001b[0m                                Traceback (most recent call last)",
      "\u001b[1;32m<ipython-input-9-0ec8fd7ad4f7>\u001b[0m in \u001b[0;36m<module>\u001b[1;34m\u001b[0m\n\u001b[0;32m      7\u001b[0m \u001b[0mb\u001b[0m\u001b[1;33m=\u001b[0m\u001b[1;36m0\u001b[0m\u001b[1;33m\u001b[0m\u001b[1;33m\u001b[0m\u001b[0m\n\u001b[0;32m      8\u001b[0m \u001b[1;33m\u001b[0m\u001b[0m\n\u001b[1;32m----> 9\u001b[1;33m \u001b[1;32mfor\u001b[0m \u001b[0mlinea\u001b[0m \u001b[1;32min\u001b[0m \u001b[0mlector\u001b[0m\u001b[1;33m:\u001b[0m\u001b[1;33m\u001b[0m\u001b[1;33m\u001b[0m\u001b[0m\n\u001b[0m\u001b[0;32m     10\u001b[0m     \u001b[0mtransportes\u001b[0m\u001b[1;33m.\u001b[0m\u001b[0mappend\u001b[0m\u001b[1;33m(\u001b[0m\u001b[1;33m[\u001b[0m\u001b[0mb\u001b[0m\u001b[1;33m,\u001b[0m\u001b[0mlinea\u001b[0m\u001b[1;33m[\u001b[0m\u001b[1;36m7\u001b[0m\u001b[1;33m]\u001b[0m\u001b[1;33m,\u001b[0m\u001b[0mlinea\u001b[0m\u001b[1;33m[\u001b[0m\u001b[1;36m9\u001b[0m\u001b[1;33m]\u001b[0m\u001b[1;33m]\u001b[0m\u001b[1;33m)\u001b[0m\u001b[1;33m\u001b[0m\u001b[1;33m\u001b[0m\u001b[0m\n\u001b[0;32m     11\u001b[0m     \u001b[0mb\u001b[0m\u001b[1;33m=\u001b[0m\u001b[0mb\u001b[0m\u001b[1;33m+\u001b[0m\u001b[1;36m1\u001b[0m\u001b[1;33m\u001b[0m\u001b[1;33m\u001b[0m\u001b[0m\n",
      "\u001b[1;31mValueError\u001b[0m: I/O operation on closed file."
     ]
    }
   ],
   "source": [
    "# Creación de una serie de listas\n",
    "\n",
    "import csv\n",
    "\n",
    "transportes = []\n",
    "    \n",
    "b=0\n",
    "    \n",
    "for linea in lector:\n",
    "    transportes.append([b,linea[7],linea[9]])\n",
    "    b=b+1\n",
    "\n",
    "#print(transportes)\n",
    "\n",
    "#ordenamiento de la lista\n",
    "\n",
    "def segundo_elemento(lista):\n",
    "    return lista[1]\n",
    "\n",
    "transportes.sort(reverse=False, key= segundo_elemento)\n",
    "\n",
    "\n",
    "\n",
    "\"\"\"#creación de lista de tipos de transportes:\n",
    "\n",
    "tipos_transportes=[]\n",
    "\n",
    "for transporte in transportes:\n",
    "    \n",
    "    if (transporte in tipos_transportes) == False:\n",
    "        tipos_transportes.append(transporte)\n",
    "\n",
    "#print(tipos_transporte)\n",
    "\n",
    "# Numeración de los tipos de transportes y espacio para conteo\n",
    "\n",
    "tipos_transportes_conteo = [] \n",
    "a=1\n",
    "\n",
    "for tipo_transporte in tipos_transportes: \n",
    "    lista_interna = [a, tipo_transporte, 0] \n",
    "    tipos_transportes_conteo.append(lista_interna)\n",
    "    a=a+1\n",
    "    \n",
    "#print(tipos_transportes_conteo)\n",
    "\n",
    "# Creación de lista de numeros de transporte:\n",
    "\n",
    "numeros_transportes=[]\n",
    "\n",
    "for tipo_transporte in tipos_transportes:\n",
    "    \n",
    "    for transporte in transportes:\n",
    "        \n",
    "        if tipo_transporte[1] == transporte:\n",
    "            numeros_transportes.append(tipos_transportes_conteo[0])\n",
    "\n",
    "print(numeros_transportes)\n",
    "\n",
    "# Conteo\n",
    "\n",
    "for ruta in rutas2: \n",
    "    tipo_eventos[ruta - 1][2] += 1\n",
    "\n",
    "#print(tipo_eventos)\n",
    "\n",
    "def tercer_elemento(lista): \n",
    "    return lista[2] \n",
    "\n",
    "tipo_eventos.sort(reverse=True, key=tercer_elemento)\n",
    "\n",
    "n = 10 \n",
    "\n",
    "mejores_rutas = tipo_eventos[:n] \n",
    "\n",
    "#for mejorruta in mejores_rutas:\n",
    "#    print(mejorruta)\"\"\"\n",
    "\n"
   ]
  },
  {
   "cell_type": "code",
   "execution_count": null,
   "metadata": {},
   "outputs": [],
   "source": []
  },
  {
   "cell_type": "code",
   "execution_count": null,
   "metadata": {},
   "outputs": [],
   "source": []
  },
  {
   "cell_type": "markdown",
   "metadata": {
    "tags": []
   },
   "source": [
    "## Opción 3.  Valor total de importaciones y exportaciones"
   ]
  },
  {
   "cell_type": "markdown",
   "metadata": {},
   "source": [
    "### Países que generan el 80% del valor de las exportaciones e importaciones"
   ]
  },
  {
   "cell_type": "code",
   "execution_count": null,
   "metadata": {},
   "outputs": [],
   "source": []
  },
  {
   "cell_type": "code",
   "execution_count": null,
   "metadata": {},
   "outputs": [],
   "source": []
  },
  {
   "cell_type": "code",
   "execution_count": null,
   "metadata": {},
   "outputs": [],
   "source": []
  },
  {
   "cell_type": "markdown",
   "metadata": {},
   "source": [
    "## Resumen\n",
    "La siguiente tabla muestra las funciones de agregación disponibles:\n",
    "\n",
    "| ufunc           | Versión Nan-safe       | Descripción                              |\n",
    "| --------------- | ---------------------- | ---------------------------------------- |\n",
    "| `np.sum`        | `np.nansumv`           | Calcula suma                             |\n",
    "| `np.prod`       | `np.nanprod`           | Calcular producto                        |\n",
    "| `np.mean`       | `np.nanmean`           | Calcula media                            |\n",
    "| `np.std`        | `np.nanstd`            | Calcula desviación típica                |\n",
    "| `np.var`        | `np.nanvar`            | Calcula varianza                         |\n",
    "| `np.min`        | `np.nanmin`            | Determina mínimo                         |\n",
    "| `np.max`        | `np.nanmax`            | Determina máximo                         |\n",
    "| `np.argmin`     | `np.nanargmin`         | Determina índice del mínimo              |\n",
    "| `np.argmax`     | `np.nanargmax`         | Determina índice del máximo              |\n",
    "| `np.media`      | `np.nanmedian`         | Calcula mediana                          |\n",
    "| `np.percentile` | `np.nanmedian`         | Calcula percentiles                      |\n",
    "| `np.any`        | N/A                    | Evalúa si algún elemento es `True`       |\n",
    "| `np.all`        | N/A                    | Evalúa si todos los elementos son `True` |"
   ]
  }
 ],
 "metadata": {
  "kernelspec": {
   "display_name": "Python 3",
   "language": "python",
   "name": "python3"
  },
  "language_info": {
   "codemirror_mode": {
    "name": "ipython",
    "version": 3
   },
   "file_extension": ".py",
   "mimetype": "text/x-python",
   "name": "python",
   "nbconvert_exporter": "python",
   "pygments_lexer": "ipython3",
   "version": "3.7.3"
  }
 },
 "nbformat": 4,
 "nbformat_minor": 5
}
